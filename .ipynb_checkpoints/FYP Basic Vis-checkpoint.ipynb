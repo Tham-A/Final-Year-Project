{
 "cells": [
  {
   "cell_type": "code",
   "execution_count": 1,
   "id": "a9c480ae",
   "metadata": {},
   "outputs": [
    {
     "name": "stdout",
     "output_type": "stream",
     "text": [
      "Exception <class 'tuple'>, <class 'list'>\n",
      "Exception <class 'tuple'>, <class 'list'>\n",
      "Exception <class 'tuple'>, <class 'list'>\n",
      "Exception <class 'tuple'>, <class 'list'>\n",
      "Exception <class 'tuple'>, <class 'list'>\n",
      "Exception <class 'tuple'>, <class 'list'>\n",
      "Exception <class 'tuple'>, <class 'list'>\n",
      "Exception <class 'tuple'>, <class 'list'>\n",
      "Exception <class 'tuple'>, <class 'list'>\n",
      "Exception <class 'tuple'>, <class 'list'>\n",
      "Exception <class 'tuple'>, <class 'list'>\n",
      "Exception <class 'tuple'>, <class 'list'>\n",
      "Exception <class 'tuple'>, <class 'list'>\n",
      "Exception <class 'tuple'>, <class 'list'>\n",
      "Exception <class 'tuple'>, <class 'list'>\n",
      "Exception <class 'tuple'>, <class 'list'>\n",
      "Exception <class 'tuple'>, <class 'list'>\n",
      "Exception <class 'tuple'>, <class 'list'>\n",
      "Exception <class 'tuple'>, <class 'list'>\n",
      "Exception <class 'tuple'>, <class 'list'>\n",
      "Exception <class 'tuple'>, <class 'list'>\n",
      "Exception <class 'tuple'>, <class 'list'>\n",
      "Exception <class 'tuple'>, <class 'list'>\n",
      "Exception <class 'tuple'>, <class 'list'>\n",
      "Exception <class 'tuple'>, <class 'list'>\n",
      "Exception <class 'tuple'>, <class 'list'>\n",
      "Exception <class 'tuple'>, <class 'list'>\n",
      "Exception <class 'tuple'>, <class 'list'>\n",
      "Exception <class 'tuple'>, <class 'list'>\n",
      "Exception <class 'tuple'>, <class 'list'>\n",
      "Exception <class 'tuple'>, <class 'list'>\n",
      "Exception <class 'tuple'>, <class 'list'>\n",
      "Exception <class 'tuple'>, <class 'list'>\n",
      "Exception <class 'tuple'>, <class 'list'>\n",
      "Exception <class 'tuple'>, <class 'list'>\n",
      "Exception <class 'tuple'>, <class 'list'>\n",
      "Exception <class 'tuple'>, <class 'list'>\n",
      "Exception <class 'tuple'>, <class 'list'>\n",
      "Exception <class 'tuple'>, <class 'list'>\n",
      "Exception <class 'tuple'>, <class 'list'>\n",
      "Exception <class 'tuple'>, <class 'list'>\n",
      "Exception <class 'tuple'>, <class 'list'>\n",
      "Exception <class 'tuple'>, <class 'list'>\n",
      "Exception <class 'tuple'>, <class 'list'>\n",
      "Exception <class 'tuple'>, <class 'list'>\n",
      "Exception <class 'tuple'>, <class 'list'>\n",
      "Exception <class 'tuple'>, <class 'list'>\n",
      "Exception <class 'tuple'>, <class 'list'>\n",
      "Exception <class 'tuple'>, <class 'list'>\n",
      "Exception <class 'tuple'>, <class 'list'>\n",
      "Exception <class 'tuple'>, <class 'list'>\n",
      "Exception <class 'tuple'>, <class 'list'>\n",
      "Exception <class 'tuple'>, <class 'list'>\n",
      "[None, None, None, None, None, None, None, None, None, None, None, None, None, None, None, None, None, None, None, None, None, None, None, None, None, None, None, None, None, None, None, None, None, None, None, None, None, None, None, None, None, None, None, None, None, None, None, None, None, None, None, None, None]\n"
     ]
    }
   ],
   "source": [
    "import pandas as pd\n",
    "import numpy as np\n",
    "from itertools import zip_longest, filterfalse \n",
    "from statistics import mean\n",
    "from numpy import isnan\n",
    "\n",
    "# Look into and load as int instead of str\n",
    "df = pd.read_csv('LeagueofLegends.csv')\n",
    "df['golddiff'] = df['golddiff'].str.split(', ')\n",
    "\n",
    "lck2017summer = df[(df['League'] == 'LCK') & (df['Year'] == 2017) & (df['Season'] == 'Summer') & ((df['blueTeamTag'] == 'SKT') | (df['redTeamTag'] == 'SKT'))]\n",
    "\n",
    "#print(lck2017summer)\n",
    "\n",
    "def mymean(n):\n",
    "    if type(n) == str:\n",
    "        print(n)\n",
    "        return 0\n",
    "    try:\n",
    "        return mean(filterfalse(isnan, n))\n",
    "    except:\n",
    "        print(f\"Exception {type(n)}, {type(n[0])}\")\n",
    "        \n",
    "\n",
    "    \n",
    "outcome = [mymean(n) for n in zip_longest(lck2017summer['golddiff'], fillvalue=float(\"nan\"))]\n",
    "\n",
    "print(outcome)"
   ]
  },
  {
   "cell_type": "code",
   "execution_count": 3,
   "id": "3234a9e6",
   "metadata": {},
   "outputs": [
    {
     "name": "stdout",
     "output_type": "stream",
     "text": [
      "[10, 63.333333333333336, 172.5, 275, 600, 700]\n"
     ]
    }
   ],
   "source": [
    "from itertools import zip_longest\n",
    "from itertools import filterfalse \n",
    "from numpy import isnan\n",
    "from statistics import mean\n",
    "\n",
    "a = [0,100,200,300]\n",
    "b = [0,70,145,250,600,700]\n",
    "c = [30, 20]\n",
    "\n",
    "outcome = [mean(filterfalse(isnan, n)) for n in zip_longest(a, b, c, fillvalue=float(\"nan\"))]\n",
    "print(outcome)\n",
    "\n",
    "#test version control"
   ]
  },
  {
   "cell_type": "code",
   "execution_count": null,
   "id": "bee17484",
   "metadata": {},
   "outputs": [],
   "source": []
  }
 ],
 "metadata": {
  "kernelspec": {
   "display_name": "Python 3 (ipykernel)",
   "language": "python",
   "name": "python3"
  },
  "language_info": {
   "codemirror_mode": {
    "name": "ipython",
    "version": 3
   },
   "file_extension": ".py",
   "mimetype": "text/x-python",
   "name": "python",
   "nbconvert_exporter": "python",
   "pygments_lexer": "ipython3",
   "version": "3.9.13"
  }
 },
 "nbformat": 4,
 "nbformat_minor": 5
}
