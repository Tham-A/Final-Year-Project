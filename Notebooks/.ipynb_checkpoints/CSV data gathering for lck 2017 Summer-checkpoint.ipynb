{
 "cells": [
  {
   "cell_type": "code",
   "execution_count": 4,
   "id": "cd93903d",
   "metadata": {},
   "outputs": [
    {
     "ename": "FileNotFoundError",
     "evalue": "[Errno 2] No such file or directory: '\\\\CSV files\\\\LeagueofLegends.csv'",
     "output_type": "error",
     "traceback": [
      "\u001b[1;31m---------------------------------------------------------------------------\u001b[0m",
      "\u001b[1;31mFileNotFoundError\u001b[0m                         Traceback (most recent call last)",
      "\u001b[1;32m~\\AppData\\Local\\Temp\\ipykernel_2264\\733422844.py\u001b[0m in \u001b[0;36m<module>\u001b[1;34m\u001b[0m\n\u001b[0;32m      3\u001b[0m \u001b[1;32mimport\u001b[0m \u001b[0mitertools\u001b[0m\u001b[1;33m\u001b[0m\u001b[1;33m\u001b[0m\u001b[0m\n\u001b[0;32m      4\u001b[0m \u001b[1;33m\u001b[0m\u001b[0m\n\u001b[1;32m----> 5\u001b[1;33m \u001b[0mdf\u001b[0m \u001b[1;33m=\u001b[0m \u001b[0mpd\u001b[0m\u001b[1;33m.\u001b[0m\u001b[0mread_csv\u001b[0m\u001b[1;33m(\u001b[0m\u001b[1;34m'\\CSV files\\LeagueofLegends.csv'\u001b[0m\u001b[1;33m,\u001b[0m \u001b[0mconverters\u001b[0m\u001b[1;33m=\u001b[0m\u001b[1;33m{\u001b[0m\u001b[1;34m'golddiff'\u001b[0m\u001b[1;33m:\u001b[0m \u001b[0mpd\u001b[0m\u001b[1;33m.\u001b[0m\u001b[0meval\u001b[0m\u001b[1;33m}\u001b[0m\u001b[1;33m)\u001b[0m\u001b[1;33m\u001b[0m\u001b[1;33m\u001b[0m\u001b[0m\n\u001b[0m\u001b[0;32m      6\u001b[0m \u001b[1;33m\u001b[0m\u001b[0m\n\u001b[0;32m      7\u001b[0m \u001b[0mSKTSu17All\u001b[0m \u001b[1;33m=\u001b[0m \u001b[0mdf\u001b[0m\u001b[1;33m[\u001b[0m\u001b[1;33m(\u001b[0m\u001b[0mdf\u001b[0m\u001b[1;33m[\u001b[0m\u001b[1;34m'League'\u001b[0m\u001b[1;33m]\u001b[0m \u001b[1;33m==\u001b[0m \u001b[1;34m'LCK'\u001b[0m\u001b[1;33m)\u001b[0m \u001b[1;33m&\u001b[0m \u001b[1;33m(\u001b[0m\u001b[0mdf\u001b[0m\u001b[1;33m[\u001b[0m\u001b[1;34m'Year'\u001b[0m\u001b[1;33m]\u001b[0m \u001b[1;33m==\u001b[0m \u001b[1;36m2017\u001b[0m\u001b[1;33m)\u001b[0m \u001b[1;33m&\u001b[0m \u001b[1;33m(\u001b[0m\u001b[0mdf\u001b[0m\u001b[1;33m[\u001b[0m\u001b[1;34m'Season'\u001b[0m\u001b[1;33m]\u001b[0m \u001b[1;33m==\u001b[0m \u001b[1;34m'Summer'\u001b[0m\u001b[1;33m)\u001b[0m \u001b[1;33m&\u001b[0m \u001b[1;33m(\u001b[0m\u001b[1;33m(\u001b[0m\u001b[0mdf\u001b[0m\u001b[1;33m[\u001b[0m\u001b[1;34m'blueTeamTag'\u001b[0m\u001b[1;33m]\u001b[0m \u001b[1;33m==\u001b[0m \u001b[1;34m'SKT'\u001b[0m\u001b[1;33m)\u001b[0m \u001b[1;33m|\u001b[0m \u001b[1;33m(\u001b[0m\u001b[0mdf\u001b[0m\u001b[1;33m[\u001b[0m\u001b[1;34m'redTeamTag'\u001b[0m\u001b[1;33m]\u001b[0m \u001b[1;33m==\u001b[0m \u001b[1;34m'SKT'\u001b[0m\u001b[1;33m)\u001b[0m\u001b[1;33m)\u001b[0m\u001b[1;33m]\u001b[0m\u001b[1;33m\u001b[0m\u001b[1;33m\u001b[0m\u001b[0m\n",
      "\u001b[1;32mC:\\ProgramData\\Anaconda3\\lib\\site-packages\\pandas\\util\\_decorators.py\u001b[0m in \u001b[0;36mwrapper\u001b[1;34m(*args, **kwargs)\u001b[0m\n\u001b[0;32m    309\u001b[0m                     \u001b[0mstacklevel\u001b[0m\u001b[1;33m=\u001b[0m\u001b[0mstacklevel\u001b[0m\u001b[1;33m,\u001b[0m\u001b[1;33m\u001b[0m\u001b[1;33m\u001b[0m\u001b[0m\n\u001b[0;32m    310\u001b[0m                 )\n\u001b[1;32m--> 311\u001b[1;33m             \u001b[1;32mreturn\u001b[0m \u001b[0mfunc\u001b[0m\u001b[1;33m(\u001b[0m\u001b[1;33m*\u001b[0m\u001b[0margs\u001b[0m\u001b[1;33m,\u001b[0m \u001b[1;33m**\u001b[0m\u001b[0mkwargs\u001b[0m\u001b[1;33m)\u001b[0m\u001b[1;33m\u001b[0m\u001b[1;33m\u001b[0m\u001b[0m\n\u001b[0m\u001b[0;32m    312\u001b[0m \u001b[1;33m\u001b[0m\u001b[0m\n\u001b[0;32m    313\u001b[0m         \u001b[1;32mreturn\u001b[0m \u001b[0mwrapper\u001b[0m\u001b[1;33m\u001b[0m\u001b[1;33m\u001b[0m\u001b[0m\n",
      "\u001b[1;32mC:\\ProgramData\\Anaconda3\\lib\\site-packages\\pandas\\io\\parsers\\readers.py\u001b[0m in \u001b[0;36mread_csv\u001b[1;34m(filepath_or_buffer, sep, delimiter, header, names, index_col, usecols, squeeze, prefix, mangle_dupe_cols, dtype, engine, converters, true_values, false_values, skipinitialspace, skiprows, skipfooter, nrows, na_values, keep_default_na, na_filter, verbose, skip_blank_lines, parse_dates, infer_datetime_format, keep_date_col, date_parser, dayfirst, cache_dates, iterator, chunksize, compression, thousands, decimal, lineterminator, quotechar, quoting, doublequote, escapechar, comment, encoding, encoding_errors, dialect, error_bad_lines, warn_bad_lines, on_bad_lines, delim_whitespace, low_memory, memory_map, float_precision, storage_options)\u001b[0m\n\u001b[0;32m    676\u001b[0m     \u001b[0mkwds\u001b[0m\u001b[1;33m.\u001b[0m\u001b[0mupdate\u001b[0m\u001b[1;33m(\u001b[0m\u001b[0mkwds_defaults\u001b[0m\u001b[1;33m)\u001b[0m\u001b[1;33m\u001b[0m\u001b[1;33m\u001b[0m\u001b[0m\n\u001b[0;32m    677\u001b[0m \u001b[1;33m\u001b[0m\u001b[0m\n\u001b[1;32m--> 678\u001b[1;33m     \u001b[1;32mreturn\u001b[0m \u001b[0m_read\u001b[0m\u001b[1;33m(\u001b[0m\u001b[0mfilepath_or_buffer\u001b[0m\u001b[1;33m,\u001b[0m \u001b[0mkwds\u001b[0m\u001b[1;33m)\u001b[0m\u001b[1;33m\u001b[0m\u001b[1;33m\u001b[0m\u001b[0m\n\u001b[0m\u001b[0;32m    679\u001b[0m \u001b[1;33m\u001b[0m\u001b[0m\n\u001b[0;32m    680\u001b[0m \u001b[1;33m\u001b[0m\u001b[0m\n",
      "\u001b[1;32mC:\\ProgramData\\Anaconda3\\lib\\site-packages\\pandas\\io\\parsers\\readers.py\u001b[0m in \u001b[0;36m_read\u001b[1;34m(filepath_or_buffer, kwds)\u001b[0m\n\u001b[0;32m    573\u001b[0m \u001b[1;33m\u001b[0m\u001b[0m\n\u001b[0;32m    574\u001b[0m     \u001b[1;31m# Create the parser.\u001b[0m\u001b[1;33m\u001b[0m\u001b[1;33m\u001b[0m\u001b[0m\n\u001b[1;32m--> 575\u001b[1;33m     \u001b[0mparser\u001b[0m \u001b[1;33m=\u001b[0m \u001b[0mTextFileReader\u001b[0m\u001b[1;33m(\u001b[0m\u001b[0mfilepath_or_buffer\u001b[0m\u001b[1;33m,\u001b[0m \u001b[1;33m**\u001b[0m\u001b[0mkwds\u001b[0m\u001b[1;33m)\u001b[0m\u001b[1;33m\u001b[0m\u001b[1;33m\u001b[0m\u001b[0m\n\u001b[0m\u001b[0;32m    576\u001b[0m \u001b[1;33m\u001b[0m\u001b[0m\n\u001b[0;32m    577\u001b[0m     \u001b[1;32mif\u001b[0m \u001b[0mchunksize\u001b[0m \u001b[1;32mor\u001b[0m \u001b[0miterator\u001b[0m\u001b[1;33m:\u001b[0m\u001b[1;33m\u001b[0m\u001b[1;33m\u001b[0m\u001b[0m\n",
      "\u001b[1;32mC:\\ProgramData\\Anaconda3\\lib\\site-packages\\pandas\\io\\parsers\\readers.py\u001b[0m in \u001b[0;36m__init__\u001b[1;34m(self, f, engine, **kwds)\u001b[0m\n\u001b[0;32m    930\u001b[0m \u001b[1;33m\u001b[0m\u001b[0m\n\u001b[0;32m    931\u001b[0m         \u001b[0mself\u001b[0m\u001b[1;33m.\u001b[0m\u001b[0mhandles\u001b[0m\u001b[1;33m:\u001b[0m \u001b[0mIOHandles\u001b[0m \u001b[1;33m|\u001b[0m \u001b[1;32mNone\u001b[0m \u001b[1;33m=\u001b[0m \u001b[1;32mNone\u001b[0m\u001b[1;33m\u001b[0m\u001b[1;33m\u001b[0m\u001b[0m\n\u001b[1;32m--> 932\u001b[1;33m         \u001b[0mself\u001b[0m\u001b[1;33m.\u001b[0m\u001b[0m_engine\u001b[0m \u001b[1;33m=\u001b[0m \u001b[0mself\u001b[0m\u001b[1;33m.\u001b[0m\u001b[0m_make_engine\u001b[0m\u001b[1;33m(\u001b[0m\u001b[0mf\u001b[0m\u001b[1;33m,\u001b[0m \u001b[0mself\u001b[0m\u001b[1;33m.\u001b[0m\u001b[0mengine\u001b[0m\u001b[1;33m)\u001b[0m\u001b[1;33m\u001b[0m\u001b[1;33m\u001b[0m\u001b[0m\n\u001b[0m\u001b[0;32m    933\u001b[0m \u001b[1;33m\u001b[0m\u001b[0m\n\u001b[0;32m    934\u001b[0m     \u001b[1;32mdef\u001b[0m \u001b[0mclose\u001b[0m\u001b[1;33m(\u001b[0m\u001b[0mself\u001b[0m\u001b[1;33m)\u001b[0m\u001b[1;33m:\u001b[0m\u001b[1;33m\u001b[0m\u001b[1;33m\u001b[0m\u001b[0m\n",
      "\u001b[1;32mC:\\ProgramData\\Anaconda3\\lib\\site-packages\\pandas\\io\\parsers\\readers.py\u001b[0m in \u001b[0;36m_make_engine\u001b[1;34m(self, f, engine)\u001b[0m\n\u001b[0;32m   1214\u001b[0m             \u001b[1;31m# \"Union[str, PathLike[str], ReadCsvBuffer[bytes], ReadCsvBuffer[str]]\"\u001b[0m\u001b[1;33m\u001b[0m\u001b[1;33m\u001b[0m\u001b[0m\n\u001b[0;32m   1215\u001b[0m             \u001b[1;31m# , \"str\", \"bool\", \"Any\", \"Any\", \"Any\", \"Any\", \"Any\"\u001b[0m\u001b[1;33m\u001b[0m\u001b[1;33m\u001b[0m\u001b[0m\n\u001b[1;32m-> 1216\u001b[1;33m             self.handles = get_handle(  # type: ignore[call-overload]\n\u001b[0m\u001b[0;32m   1217\u001b[0m                 \u001b[0mf\u001b[0m\u001b[1;33m,\u001b[0m\u001b[1;33m\u001b[0m\u001b[1;33m\u001b[0m\u001b[0m\n\u001b[0;32m   1218\u001b[0m                 \u001b[0mmode\u001b[0m\u001b[1;33m,\u001b[0m\u001b[1;33m\u001b[0m\u001b[1;33m\u001b[0m\u001b[0m\n",
      "\u001b[1;32mC:\\ProgramData\\Anaconda3\\lib\\site-packages\\pandas\\io\\common.py\u001b[0m in \u001b[0;36mget_handle\u001b[1;34m(path_or_buf, mode, encoding, compression, memory_map, is_text, errors, storage_options)\u001b[0m\n\u001b[0;32m    784\u001b[0m         \u001b[1;32mif\u001b[0m \u001b[0mioargs\u001b[0m\u001b[1;33m.\u001b[0m\u001b[0mencoding\u001b[0m \u001b[1;32mand\u001b[0m \u001b[1;34m\"b\"\u001b[0m \u001b[1;32mnot\u001b[0m \u001b[1;32min\u001b[0m \u001b[0mioargs\u001b[0m\u001b[1;33m.\u001b[0m\u001b[0mmode\u001b[0m\u001b[1;33m:\u001b[0m\u001b[1;33m\u001b[0m\u001b[1;33m\u001b[0m\u001b[0m\n\u001b[0;32m    785\u001b[0m             \u001b[1;31m# Encoding\u001b[0m\u001b[1;33m\u001b[0m\u001b[1;33m\u001b[0m\u001b[0m\n\u001b[1;32m--> 786\u001b[1;33m             handle = open(\n\u001b[0m\u001b[0;32m    787\u001b[0m                 \u001b[0mhandle\u001b[0m\u001b[1;33m,\u001b[0m\u001b[1;33m\u001b[0m\u001b[1;33m\u001b[0m\u001b[0m\n\u001b[0;32m    788\u001b[0m                 \u001b[0mioargs\u001b[0m\u001b[1;33m.\u001b[0m\u001b[0mmode\u001b[0m\u001b[1;33m,\u001b[0m\u001b[1;33m\u001b[0m\u001b[1;33m\u001b[0m\u001b[0m\n",
      "\u001b[1;31mFileNotFoundError\u001b[0m: [Errno 2] No such file or directory: '\\\\CSV files\\\\LeagueofLegends.csv'"
     ]
    }
   ],
   "source": [
    "import pandas as pd\n",
    "import numpy as np\n",
    "import itertools\n",
    "\n",
    "df = pd.read_csv('LeagueofLegends.csv', converters={'golddiff': pd.eval})\n",
    "\n",
    "SKTSu17All = df[(df['League'] == 'LCK') & (df['Year'] == 2017) & (df['Season'] == 'Summer') & ((df['blueTeamTag'] == 'SKT') | (df['redTeamTag'] == 'SKT'))]\n",
    "SKTSu17B = df[(df['League'] == 'LCK') & (df['Year'] == 2017) & (df['Season'] == 'Summer') & (df['blueTeamTag'] == 'SKT')]\n",
    "SKTSu17R = df[(df['League'] == 'LCK') & (df['Year'] == 2017) & (df['Season'] == 'Summer') & (df['redTeamTag'] == 'SKT')]\n",
    "\n",
    "sktarr = np.array(SKTSu17All['golddiff'], object)\n",
    "sktarr1 = np.array(SKTSu17B['golddiff'], object)\n",
    "sktarr2 = np.array(SKTSu17R['golddiff'], object)"
   ]
  },
  {
   "cell_type": "code",
   "execution_count": 2,
   "id": "935299f8",
   "metadata": {},
   "outputs": [],
   "source": [
    "sktsu17all = np.array(list(itertools.zip_longest(*sktarr,fillvalue=np.nan)))\n",
    "sktsu17b = np.array(list(itertools.zip_longest(*sktarr1,fillvalue=np.nan)))\n",
    "sktsu17r = np.array(list(itertools.zip_longest(*sktarr2,fillvalue=np.nan)))"
   ]
  },
  {
   "cell_type": "code",
   "execution_count": 3,
   "id": "2bee2dd8",
   "metadata": {},
   "outputs": [],
   "source": [
    "JAGSu17All = df[(df['League'] == 'LCK') & (df['Year'] == 2017) & (df['Season'] == 'Summer') & ((df['blueTeamTag'] == 'JAG') | (df['redTeamTag'] == 'JAG'))]\n",
    "JAGSu17B = df[(df['League'] == 'LCK') & (df['Year'] == 2017) & (df['Season'] == 'Summer') & (df['blueTeamTag'] == 'JAG')]\n",
    "JAGSu17R = df[(df['League'] == 'LCK') & (df['Year'] == 2017) & (df['Season'] == 'Summer') & (df['redTeamTag'] == 'JAG')]\n",
    "\n",
    "jagarr = np.array(JAGSu17All['golddiff'], object)\n",
    "jagarr1 = np.array(JAGSu17B['golddiff'], object)\n",
    "jagarr2 = np.array(JAGSu17R['golddiff'], object)\n",
    "\n",
    "jagsu17all = np.array(list(itertools.zip_longest(*jagarr,fillvalue=np.nan)))\n",
    "jagsu17b = np.array(list(itertools.zip_longest(*jagarr1,fillvalue=np.nan)))\n",
    "jagsu17r = np.array(list(itertools.zip_longest(*jagarr2,fillvalue=np.nan)))"
   ]
  },
  {
   "cell_type": "code",
   "execution_count": 4,
   "id": "307f1bb3",
   "metadata": {},
   "outputs": [],
   "source": [
    "MVPSu17All = df[(df['League'] == 'LCK') & (df['Year'] == 2017) & (df['Season'] == 'Summer') & ((df['blueTeamTag'] == 'MVP') | (df['redTeamTag'] == 'MVP'))]\n",
    "MVPSu17B = df[(df['League'] == 'LCK') & (df['Year'] == 2017) & (df['Season'] == 'Summer') & (df['blueTeamTag'] == 'MVP')]\n",
    "MVPSu17R = df[(df['League'] == 'LCK') & (df['Year'] == 2017) & (df['Season'] == 'Summer') & (df['redTeamTag'] == 'MVP')]\n",
    "\n",
    "mvparr = np.array(MVPSu17All['golddiff'], object)\n",
    "mvparr1 = np.array(MVPSu17B['golddiff'], object)\n",
    "mvparr2 = np.array(MVPSu17R['golddiff'], object)\n",
    "\n",
    "mvpsu17all = np.array(list(itertools.zip_longest(*mvparr,fillvalue=np.nan)))\n",
    "mvpsu17b = np.array(list(itertools.zip_longest(*mvparr1,fillvalue=np.nan)))\n",
    "mvpsu17r = np.array(list(itertools.zip_longest(*mvparr2,fillvalue=np.nan)))"
   ]
  },
  {
   "cell_type": "code",
   "execution_count": 5,
   "id": "948fc703",
   "metadata": {},
   "outputs": [],
   "source": [
    "LZSu17All = df[(df['League'] == 'LCK') & (df['Year'] == 2017) & (df['Season'] == 'Summer') & ((df['blueTeamTag'] == 'LZ') | (df['redTeamTag'] == 'LZ'))]\n",
    "LZSu17B = df[(df['League'] == 'LCK') & (df['Year'] == 2017) & (df['Season'] == 'Summer') & (df['blueTeamTag'] == 'LZ')]\n",
    "LZSu17R = df[(df['League'] == 'LCK') & (df['Year'] == 2017) & (df['Season'] == 'Summer') & (df['redTeamTag'] == 'LZ')]\n",
    "\n",
    "lzarr = np.array(LZSu17All['golddiff'], object)\n",
    "lzarr1 = np.array(LZSu17B['golddiff'], object)\n",
    "lzarr2 = np.array(LZSu17R['golddiff'], object)\n",
    "\n",
    "lzsu17all = np.array(list(itertools.zip_longest(*lzarr,fillvalue=np.nan)))\n",
    "lzsu17b = np.array(list(itertools.zip_longest(*lzarr1,fillvalue=np.nan)))\n",
    "lzsu17r = np.array(list(itertools.zip_longest(*lzarr2,fillvalue=np.nan)))"
   ]
  },
  {
   "cell_type": "code",
   "execution_count": 6,
   "id": "d967bdb9",
   "metadata": {},
   "outputs": [],
   "source": [
    "KTSu17All = df[(df['League'] == 'LCK') & (df['Year'] == 2017) & (df['Season'] == 'Summer') & ((df['blueTeamTag'] == 'kt') | (df['redTeamTag'] == 'kt'))]\n",
    "KTSu17B = df[(df['League'] == 'LCK') & (df['Year'] == 2017) & (df['Season'] == 'Summer') & (df['blueTeamTag'] == 'kt')]\n",
    "KTSu17R = df[(df['League'] == 'LCK') & (df['Year'] == 2017) & (df['Season'] == 'Summer') & (df['redTeamTag'] == 'kt')]\n",
    "\n",
    "ktarr = np.array(KTSu17All['golddiff'], object)\n",
    "ktarr1 = np.array(KTSu17B['golddiff'], object)\n",
    "ktarr2 = np.array(KTSu17R['golddiff'], object)\n",
    "\n",
    "ktsu17all = np.array(list(itertools.zip_longest(*ktarr,fillvalue=np.nan)))\n",
    "ktsu17b = np.array(list(itertools.zip_longest(*ktarr1,fillvalue=np.nan)))\n",
    "ktsu17r = np.array(list(itertools.zip_longest(*ktarr2,fillvalue=np.nan)))"
   ]
  },
  {
   "cell_type": "code",
   "execution_count": 7,
   "id": "ea3595a2",
   "metadata": {},
   "outputs": [],
   "source": [
    "EEWSu17All = df[(df['League'] == 'LCK') & (df['Year'] == 2017) & (df['Season'] == 'Summer') & ((df['blueTeamTag'] == 'EEW') | (df['redTeamTag'] == 'EEW'))]\n",
    "EEWSu17B = df[(df['League'] == 'LCK') & (df['Year'] == 2017) & (df['Season'] == 'Summer') & (df['blueTeamTag'] == 'EEW')]\n",
    "EEWSu17R = df[(df['League'] == 'LCK') & (df['Year'] == 2017) & (df['Season'] == 'Summer') & (df['redTeamTag'] == 'EEW')]\n",
    "\n",
    "eewarr = np.array(EEWSu17All['golddiff'], object)\n",
    "eewarr1 = np.array(EEWSu17B['golddiff'], object)\n",
    "eewarr2 = np.array(EEWSu17R['golddiff'], object)\n",
    "\n",
    "eewsu17all = np.array(list(itertools.zip_longest(*eewarr,fillvalue=np.nan)))\n",
    "eewsu17b = np.array(list(itertools.zip_longest(*eewarr1,fillvalue=np.nan)))\n",
    "eewsu17r = np.array(list(itertools.zip_longest(*eewarr2,fillvalue=np.nan)))"
   ]
  },
  {
   "cell_type": "code",
   "execution_count": 8,
   "id": "0e02f9e4",
   "metadata": {},
   "outputs": [],
   "source": [
    "AFSSu17All = df[(df['League'] == 'LCK') & (df['Year'] == 2017) & (df['Season'] == 'Summer') & ((df['blueTeamTag'] == 'AFs') | (df['redTeamTag'] == 'AFs'))]\n",
    "AFSSu17B = df[(df['League'] == 'LCK') & (df['Year'] == 2017) & (df['Season'] == 'Summer') & (df['blueTeamTag'] == 'AFs')]\n",
    "AFSSu17R = df[(df['League'] == 'LCK') & (df['Year'] == 2017) & (df['Season'] == 'Summer') & (df['redTeamTag'] == 'AFs')]\n",
    "\n",
    "afsarr = np.array(AFSSu17All['golddiff'], object)\n",
    "afsarr1 = np.array(AFSSu17B['golddiff'], object)\n",
    "afsarr2 = np.array(AFSSu17R['golddiff'], object)\n",
    "\n",
    "afssu17all = np.array(list(itertools.zip_longest(*afsarr,fillvalue=np.nan)))\n",
    "afssu17b = np.array(list(itertools.zip_longest(*afsarr1,fillvalue=np.nan)))\n",
    "afssu17r = np.array(list(itertools.zip_longest(*afsarr2,fillvalue=np.nan)))"
   ]
  },
  {
   "cell_type": "code",
   "execution_count": 9,
   "id": "95c1c5d6",
   "metadata": {},
   "outputs": [],
   "source": [
    "SSGSu17All = df[(df['League'] == 'LCK') & (df['Year'] == 2017) & (df['Season'] == 'Summer') & ((df['blueTeamTag'] == 'SSG') | (df['redTeamTag'] == 'SSG'))]\n",
    "SSGSu17B = df[(df['League'] == 'LCK') & (df['Year'] == 2017) & (df['Season'] == 'Summer') & (df['blueTeamTag'] == 'SSG')]\n",
    "SSGSu17R = df[(df['League'] == 'LCK') & (df['Year'] == 2017) & (df['Season'] == 'Summer') & (df['redTeamTag'] == 'SSG')]\n",
    "\n",
    "ssgarr = np.array(SSGSu17All['golddiff'], object)\n",
    "ssgarr1 = np.array(SSGSu17B['golddiff'], object)\n",
    "ssgarr2 = np.array(SSGSu17R['golddiff'], object)\n",
    "\n",
    "ssgsu17all = np.array(list(itertools.zip_longest(*ssgarr,fillvalue=np.nan)))\n",
    "ssgsu17b = np.array(list(itertools.zip_longest(*ssgarr1,fillvalue=np.nan)))\n",
    "ssgsu17r = np.array(list(itertools.zip_longest(*ssgarr2,fillvalue=np.nan)))"
   ]
  },
  {
   "cell_type": "code",
   "execution_count": 10,
   "id": "4865f8ac",
   "metadata": {},
   "outputs": [],
   "source": [
    "BBQSu17All = df[(df['League'] == 'LCK') & (df['Year'] == 2017) & (df['Season'] == 'Summer') & ((df['blueTeamTag'] == 'bbq') | (df['redTeamTag'] == 'bbq'))]\n",
    "BBQSu17B = df[(df['League'] == 'LCK') & (df['Year'] == 2017) & (df['Season'] == 'Summer') & (df['blueTeamTag'] == 'bbq')]\n",
    "BBQSu17R = df[(df['League'] == 'LCK') & (df['Year'] == 2017) & (df['Season'] == 'Summer') & (df['redTeamTag'] == 'bbq')]\n",
    "\n",
    "bbqarr = np.array(BBQSu17All['golddiff'], object)\n",
    "bbqarr1 = np.array(BBQSu17B['golddiff'], object)\n",
    "bbqarr2 = np.array(BBQSu17R['golddiff'], object)\n",
    "\n",
    "bbqsu17all = np.array(list(itertools.zip_longest(*bbqarr,fillvalue=np.nan)))\n",
    "bbqsu17b = np.array(list(itertools.zip_longest(*bbqarr1,fillvalue=np.nan)))\n",
    "bbqsu17r = np.array(list(itertools.zip_longest(*bbqarr2,fillvalue=np.nan)))"
   ]
  },
  {
   "cell_type": "code",
   "execution_count": 11,
   "id": "42da762b",
   "metadata": {},
   "outputs": [],
   "source": [
    "ROXSu17All = df[(df['League'] == 'LCK') & (df['Year'] == 2017) & (df['Season'] == 'Summer') & ((df['blueTeamTag'] == 'ROX') | (df['redTeamTag'] == 'ROX'))]\n",
    "ROXSu17B = df[(df['League'] == 'LCK') & (df['Year'] == 2017) & (df['Season'] == 'Summer') & (df['blueTeamTag'] == 'ROX')]\n",
    "ROXSu17R = df[(df['League'] == 'LCK') & (df['Year'] == 2017) & (df['Season'] == 'Summer') & (df['redTeamTag'] == 'ROX')]\n",
    "\n",
    "roxarr = np.array(ROXSu17All['golddiff'], object)\n",
    "roxarr1 = np.array(ROXSu17B['golddiff'], object)\n",
    "roxarr2 = np.array(ROXSu17R['golddiff'], object)\n",
    "\n",
    "roxsu17all = np.array(list(itertools.zip_longest(*roxarr,fillvalue=np.nan)))\n",
    "roxsu17b = np.array(list(itertools.zip_longest(*roxarr1,fillvalue=np.nan)))\n",
    "roxsu17r = np.array(list(itertools.zip_longest(*roxarr2,fillvalue=np.nan)))"
   ]
  },
  {
   "cell_type": "code",
   "execution_count": 12,
   "id": "1e525b78",
   "metadata": {},
   "outputs": [],
   "source": [
    "np.set_printoptions(precision=2, suppress=True)"
   ]
  },
  {
   "cell_type": "code",
   "execution_count": 13,
   "id": "3f8ebd3d",
   "metadata": {},
   "outputs": [],
   "source": [
    "sktsu17all = np.nanmean(sktsu17all, axis=1)\n",
    "sktsu17b = np.nanmean(sktsu17b, axis=1)\n",
    "sktsu17r = np.nanmean(sktsu17r, axis=1)\n",
    "\n",
    "mvpsu17all = np.nanmean(mvpsu17all, axis=1)\n",
    "mvpsu17b = np.nanmean(mvpsu17b, axis=1)\n",
    "mvpsu17r = np.nanmean(mvpsu17r, axis=1)\n",
    "\n",
    "jagsu17all = np.nanmean(jagsu17all, axis=1)\n",
    "jagsu17b = np.nanmean(jagsu17b, axis=1)\n",
    "jagsu17r = np.nanmean(jagsu17r, axis=1)\n",
    "\n",
    "lzsu17all = np.nanmean(lzsu17all, axis=1)\n",
    "lzsu17b = np.nanmean(lzsu17b, axis=1)\n",
    "lzsu17r = np.nanmean(lzsu17r, axis=1)\n",
    "\n",
    "ktsu17all = np.nanmean(ktsu17all, axis=1)\n",
    "ktsu17b = np.nanmean(ktsu17b, axis=1)\n",
    "ktsu17r = np.nanmean(ktsu17r, axis=1)\n",
    "\n",
    "eewsu17all = np.nanmean(eewsu17all, axis=1)\n",
    "eewsu17b = np.nanmean(eewsu17b, axis=1)\n",
    "eewsu17r = np.nanmean(eewsu17r, axis=1)\n",
    "\n",
    "afssu17all = np.nanmean(afssu17all, axis=1)\n",
    "afssu17b = np.nanmean(afssu17b, axis=1)\n",
    "afssu17r = np.nanmean(afssu17r, axis=1)\n",
    "\n",
    "ssgsu17all = np.nanmean(ssgsu17all, axis=1)\n",
    "ssgsu17b = np.nanmean(ssgsu17b, axis=1)\n",
    "ssgsu17r = np.nanmean(ssgsu17r, axis=1)\n",
    "\n",
    "bbqsu17all = np.nanmean(bbqsu17all, axis=1)\n",
    "bbqsu17b = np.nanmean(bbqsu17b, axis=1)\n",
    "bbqsu17r = np.nanmean(bbqsu17r, axis=1)\n",
    "\n",
    "roxsu17all = np.nanmean(roxsu17all, axis=1)\n",
    "roxsu17b = np.nanmean(roxsu17b, axis=1)\n",
    "roxsu17r = np.nanmean(roxsu17r, axis=1)"
   ]
  },
  {
   "cell_type": "code",
   "execution_count": 1,
   "id": "499483bf",
   "metadata": {},
   "outputs": [
    {
     "ename": "NameError",
     "evalue": "name 'sktsu17all' is not defined",
     "output_type": "error",
     "traceback": [
      "\u001b[1;31m---------------------------------------------------------------------------\u001b[0m",
      "\u001b[1;31mNameError\u001b[0m                                 Traceback (most recent call last)",
      "\u001b[1;32m~\\AppData\\Local\\Temp\\ipykernel_2264\\1551206954.py\u001b[0m in \u001b[0;36m<module>\u001b[1;34m\u001b[0m\n\u001b[0;32m      2\u001b[0m \u001b[1;33m\u001b[0m\u001b[0m\n\u001b[0;32m      3\u001b[0m row_list = [[\"Team\", \"Golddiff\", \"Side\"],\n\u001b[1;32m----> 4\u001b[1;33m            \u001b[1;33m[\u001b[0m\u001b[1;34m\"SKT\"\u001b[0m\u001b[1;33m,\u001b[0m \u001b[0msktsu17all\u001b[0m\u001b[1;33m,\u001b[0m \u001b[1;34m\"Both\"\u001b[0m\u001b[1;33m]\u001b[0m\u001b[1;33m,\u001b[0m\u001b[1;33m\u001b[0m\u001b[1;33m\u001b[0m\u001b[0m\n\u001b[0m\u001b[0;32m      5\u001b[0m            \u001b[1;33m[\u001b[0m\u001b[1;34m\"SKT\"\u001b[0m\u001b[1;33m,\u001b[0m \u001b[0msktsu17b\u001b[0m\u001b[1;33m,\u001b[0m \u001b[1;34m\"Blue\"\u001b[0m\u001b[1;33m]\u001b[0m\u001b[1;33m,\u001b[0m\u001b[1;33m\u001b[0m\u001b[1;33m\u001b[0m\u001b[0m\n\u001b[0;32m      6\u001b[0m            \u001b[1;33m[\u001b[0m\u001b[1;34m\"SKT\"\u001b[0m\u001b[1;33m,\u001b[0m \u001b[0msktsu17r\u001b[0m\u001b[1;33m,\u001b[0m \u001b[1;34m\"Red\"\u001b[0m\u001b[1;33m]\u001b[0m\u001b[1;33m,\u001b[0m\u001b[1;33m\u001b[0m\u001b[1;33m\u001b[0m\u001b[0m\n",
      "\u001b[1;31mNameError\u001b[0m: name 'sktsu17all' is not defined"
     ]
    }
   ],
   "source": [
    "import csv\n",
    "\n",
    "row_list = [[\"Team\", \"Golddiff\", \"Side\"],\n",
    "           [\"SKT\", sktsu17all, \"Both\"],\n",
    "           [\"SKT\", sktsu17b, \"Blue\"],\n",
    "           [\"SKT\", sktsu17r, \"Red\"],\n",
    "           [\"MVP\", mvpsu17all, \"Both\"],\n",
    "           [\"MVP\", mvpsu17b, \"Blue\"],\n",
    "           [\"MVP\", mvpsu17r, \"Red\"],\n",
    "           [\"JAG\", jagsu17all, \"Both\"],\n",
    "           [\"JAG\", jagsu17b, \"Blue\"],\n",
    "           [\"JAG\", jagsu17r, \"Red\"],\n",
    "           [\"LZ\", lzsu17all, \"Both\"],\n",
    "           [\"LZ\", lzsu17b, \"Blue\"],\n",
    "           [\"LZ\", lzsu17r, \"Red\"],\n",
    "           [\"KT\", ktsu17all, \"Both\"],\n",
    "           [\"KT\", ktsu17b, \"Blue\"],\n",
    "           [\"KT\", ktsu17r, \"Red\"],\n",
    "           [\"EEW\", eewsu17all, \"Both\"],\n",
    "           [\"EEW\", eewsu17b, \"Blue\"],\n",
    "           [\"EEW\", eewsu17r, \"Red\"],\n",
    "           [\"AFS\", afssu17all, \"Both\"],\n",
    "           [\"AFS\", afssu17b, \"Blue\"],\n",
    "           [\"AFS\", afssu17r, \"Red\"],\n",
    "           [\"SSG\", ssgsu17all, \"Both\"],\n",
    "           [\"SSG\", ssgsu17b, \"Blue\"],\n",
    "           [\"SSG\", ssgsu17r, \"Red\"],\n",
    "           [\"BBQ\", bbqsu17all, \"Both\"],\n",
    "           [\"BBQ\", bbqsu17b, \"Blue\"],\n",
    "           [\"BBQ\", bbqsu17r, \"Red\"],\n",
    "           [\"ROX\", roxsu17all, \"Both\"],\n",
    "           [\"ROX\", roxsu17b, \"Blue\"],\n",
    "           [\"ROX\", roxsu17r, \"Red\"],]\n",
    "\n",
    "with open('LCKSummer2017.csv', 'w', newline='') as file:\n",
    "    writer = csv.writer(file)\n",
    "    writer.writerows(row_list)\n",
    "    \n",
    "print(sktsu17all)"
   ]
  },
  {
   "cell_type": "code",
   "execution_count": null,
   "id": "906fa336",
   "metadata": {},
   "outputs": [],
   "source": []
  }
 ],
 "metadata": {
  "kernelspec": {
   "display_name": "Python 3 (ipykernel)",
   "language": "python",
   "name": "python3"
  },
  "language_info": {
   "codemirror_mode": {
    "name": "ipython",
    "version": 3
   },
   "file_extension": ".py",
   "mimetype": "text/x-python",
   "name": "python",
   "nbconvert_exporter": "python",
   "pygments_lexer": "ipython3",
   "version": "3.9.13"
  }
 },
 "nbformat": 4,
 "nbformat_minor": 5
}
