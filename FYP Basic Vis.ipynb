{
 "cells": [
  {
   "cell_type": "markdown",
   "id": "faa327ce",
   "metadata": {},
   "source": [
    "# Manipulate data to get element wise mean\n",
    "\n",
    "### Access and select data\n",
    "\n",
    "First import the necessary libraries.\n",
    "\n",
    "Then create a pandas dataframe and select the section of data desired.\n",
    "\n",
    "Create a numpy array and focus on one column from the selected portion of dataframe."
   ]
  },
  {
   "cell_type": "code",
   "execution_count": 1,
   "id": "a9c480ae",
   "metadata": {
    "scrolled": true
   },
   "outputs": [],
   "source": [
    "import pandas as pd\n",
    "import numpy as np\n",
    "import itertools\n",
    "\n",
    "df = pd.read_csv('LeagueofLegends.csv', converters={'golddiff': pd.eval})\n",
    "\n",
    "lck2017summer = df[(df['League'] == 'LCK') & (df['Year'] == 2017) & (df['Season'] == 'Summer') & ((df['blueTeamTag'] == 'SKT') | (df['redTeamTag'] == 'SKT'))]\n",
    "\n",
    "arr = np.array(lck2017summer['golddiff'], object)"
   ]
  },
  {
   "cell_type": "markdown",
   "id": "3486090a",
   "metadata": {},
   "source": [
    "### Format the data into element wise arrays\n",
    "\n",
    "Use zip_longest function that allows you to work with different sized arrays and set the fill value to Nan.\n",
    "\n",
    "Then create an array from the list of the passed array that will format it so that the arrays now are in an element wise format compared to the original array.\n",
    "\n",
    "E.g. original = [[1,2,3], [4,5,6], [7,8]]\n",
    "     \n",
    "new = [[1,4,7], [2,5,8], [3,6, Nan]]"
   ]
  },
  {
   "cell_type": "code",
   "execution_count": 2,
   "id": "6a17c6ee",
   "metadata": {},
   "outputs": [],
   "source": [
    "skt2017S = np.array(list(itertools.zip_longest(*arr,fillvalue=np.nan)))"
   ]
  },
  {
   "cell_type": "markdown",
   "id": "e069a4c6",
   "metadata": {},
   "source": [
    "### Control the output\n",
    "\n",
    "Use the set_printoptions function to set the output to 2 decimal places and use suppress so it always print as a float.\n",
    "\n",
    "This is used to prevent the output being in scientific notation and makes the output easier to read."
   ]
  },
  {
   "cell_type": "code",
   "execution_count": 3,
   "id": "9275bee5",
   "metadata": {},
   "outputs": [],
   "source": [
    "np.set_printoptions(precision=2, suppress=True)"
   ]
  },
  {
   "cell_type": "markdown",
   "id": "97b2d1d2",
   "metadata": {},
   "source": [
    "### Work out the mean\n",
    "\n",
    "Work out the mean of the new set of arrays using the nanmean function and that will ignore any Nans in arrays when calculating the mean."
   ]
  },
  {
   "cell_type": "code",
   "execution_count": 4,
   "id": "6d2cd8a6",
   "metadata": {},
   "outputs": [
    {
     "name": "stdout",
     "output_type": "stream",
     "text": [
      "[    0.      -0.19    -5.58   -24.81     4.87   -33.43    75.77    77.98\n",
      "    17.74   -21.23   -57.6    -56.89    48.43    30.09   -50.15  -132.\n",
      "    -0.89    34.53    16.85   147.53    12.09    85.23   -33.     384.79\n",
      "   364.46   633.24  -448.62  -365.89  -302.77  -200.76  -167.82  -460.39\n",
      "  -633.6  -1258.84 -2522.92 -3481.92 -2951.79 -3503.62 -3291.13 -2633.29\n",
      " -2655.91  -471.44 -1913.88 -3823.5  -4036.    -800.    -594.67 -2583.33\n",
      "  3855.5   4373.5   5289.    5506.    6497.    5375.    6568.  ]\n"
     ]
    }
   ],
   "source": [
    "skt2017S = np.nanmean(skt2017S, axis=1)\n",
    "print(skt2017S)"
   ]
  }
 ],
 "metadata": {
  "kernelspec": {
   "display_name": "Python 3 (ipykernel)",
   "language": "python",
   "name": "python3"
  },
  "language_info": {
   "codemirror_mode": {
    "name": "ipython",
    "version": 3
   },
   "file_extension": ".py",
   "mimetype": "text/x-python",
   "name": "python",
   "nbconvert_exporter": "python",
   "pygments_lexer": "ipython3",
   "version": "3.9.13"
  }
 },
 "nbformat": 4,
 "nbformat_minor": 5
}
